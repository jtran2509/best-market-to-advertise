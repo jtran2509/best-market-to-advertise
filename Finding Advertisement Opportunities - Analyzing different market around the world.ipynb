{
 "cells": [
  {
   "cell_type": "markdown",
   "metadata": {},
   "source": [
    "## Introduction\n",
    "\n",
    "Our e-learning company are offering courses on programming including web & mobile development. Besides, the platform also covers many other domains, like data science and game development. Since we want to promote the product and we'd like to invest some money in advertisement\n",
    "\n",
    "Overall, the goal is we want to **find out the two best markets to advertise the products**"
   ]
  },
  {
   "cell_type": "markdown",
   "metadata": {},
   "source": [
    "## Understanding the data"
   ]
  },
  {
   "cell_type": "markdown",
   "metadata": {},
   "source": [
    "We can try to search existing data that might be relevant for our purpose. One good candidate is data from [freeCodeCamp's 2017 New Coder Survey](https://www.freecodecamp.org/news/we-asked-20-000-people-who-they-are-and-how-theyre-learning-to-code-fff5d668969/)\n",
    "\n",
    "[FreeCodeCamp](https://www.freecodecamp.org/) is a free learning platform offering courses on web development. Because they run a popular Medium publication (over 400,000 followers), their survey attracted new coders with varying interests, which is ideal for the purpose of our analysis"
   ]
  },
  {
   "cell_type": "code",
   "execution_count": 1,
   "metadata": {
    "collapsed": true
   },
   "outputs": [],
   "source": [
    "import pandas as pd\n",
    "import numpy as np\n",
    "import matplotlib.pyplot as plt\n",
    "%matplotlib inline"
   ]
  },
  {
   "cell_type": "code",
   "execution_count": 2,
   "metadata": {
    "collapsed": false
   },
   "outputs": [
    {
     "name": "stdout",
     "output_type": "stream",
     "text": [
      "(18175, 136)\n"
     ]
    },
    {
     "name": "stderr",
     "output_type": "stream",
     "text": [
      "/dataquest/system/env/python3/lib/python3.4/site-packages/IPython/core/interactiveshell.py:2723: DtypeWarning:\n",
      "\n",
      "Columns (17,62) have mixed types. Specify dtype option on import or set low_memory=False.\n",
      "\n"
     ]
    }
   ],
   "source": [
    "# Exploring the shape of the dataset\n",
    "new_coder = pd.read_csv('2017-fCC-New-Coders-Survey-Data.csv')\n",
    "print(new_coder.shape)"
   ]
  },
  {
   "cell_type": "code",
   "execution_count": 3,
   "metadata": {
    "collapsed": false
   },
   "outputs": [
    {
     "name": "stdout",
     "output_type": "stream",
     "text": [
      "    Age  AttendedBootcamp  BootcampFinish  BootcampLoanYesNo BootcampName  \\\n",
      "0  27.0               0.0             NaN                NaN          NaN   \n",
      "1  34.0               0.0             NaN                NaN          NaN   \n",
      "2  21.0               0.0             NaN                NaN          NaN   \n",
      "3  26.0               0.0             NaN                NaN          NaN   \n",
      "4  20.0               0.0             NaN                NaN          NaN   \n",
      "\n",
      "   BootcampRecommend  ChildrenNumber                 CityPopulation  \\\n",
      "0                NaN             NaN            more than 1 million   \n",
      "1                NaN             NaN              less than 100,000   \n",
      "2                NaN             NaN            more than 1 million   \n",
      "3                NaN             NaN  between 100,000 and 1 million   \n",
      "4                NaN             NaN  between 100,000 and 1 million   \n",
      "\n",
      "   CodeEventConferences  CodeEventDjangoGirls         ...           \\\n",
      "0                   NaN                   NaN         ...            \n",
      "1                   NaN                   NaN         ...            \n",
      "2                   NaN                   NaN         ...            \n",
      "3                   NaN                   NaN         ...            \n",
      "4                   NaN                   NaN         ...            \n",
      "\n",
      "   YouTubeFCC  YouTubeFunFunFunction  YouTubeGoogleDev  YouTubeLearnCode  \\\n",
      "0         NaN                    NaN               NaN               NaN   \n",
      "1         1.0                    NaN               NaN               NaN   \n",
      "2         NaN                    NaN               NaN               1.0   \n",
      "3         1.0                    1.0               NaN               NaN   \n",
      "4         NaN                    NaN               NaN               NaN   \n",
      "\n",
      "   YouTubeLevelUpTuts  YouTubeMIT  YouTubeMozillaHacks YouTubeOther  \\\n",
      "0                 NaN         NaN                  NaN          NaN   \n",
      "1                 NaN         NaN                  NaN          NaN   \n",
      "2                 1.0         NaN                  NaN          NaN   \n",
      "3                 1.0         NaN                  NaN          NaN   \n",
      "4                 NaN         NaN                  NaN          NaN   \n",
      "\n",
      "   YouTubeSimplilearn  YouTubeTheNewBoston  \n",
      "0                 NaN                  NaN  \n",
      "1                 NaN                  NaN  \n",
      "2                 NaN                  NaN  \n",
      "3                 NaN                  NaN  \n",
      "4                 NaN                  NaN  \n",
      "\n",
      "[5 rows x 136 columns]\n"
     ]
    }
   ],
   "source": [
    "# Get a glimsp of the data\n",
    "print(new_coder.head())"
   ]
  },
  {
   "cell_type": "code",
   "execution_count": 4,
   "metadata": {
    "collapsed": false
   },
   "outputs": [
    {
     "name": "stdout",
     "output_type": "stream",
     "text": [
      "Index(['Age', 'AttendedBootcamp', 'BootcampFinish', 'BootcampLoanYesNo',\n",
      "       'BootcampName', 'BootcampRecommend', 'ChildrenNumber', 'CityPopulation',\n",
      "       'CodeEventConferences', 'CodeEventDjangoGirls',\n",
      "       ...\n",
      "       'YouTubeFCC', 'YouTubeFunFunFunction', 'YouTubeGoogleDev',\n",
      "       'YouTubeLearnCode', 'YouTubeLevelUpTuts', 'YouTubeMIT',\n",
      "       'YouTubeMozillaHacks', 'YouTubeOther', 'YouTubeSimplilearn',\n",
      "       'YouTubeTheNewBoston'],\n",
      "      dtype='object', length=136)\n"
     ]
    }
   ],
   "source": [
    "# Find relevant columns for our analysis \n",
    "print(new_coder.columns)"
   ]
  },
  {
   "cell_type": "markdown",
   "metadata": {},
   "source": [
    "### Conclusion\n",
    "The dataset has a total of 136 columns, besides columns describing personal information such as age, marital status and educational status, most of the columns containing binary answers to questions such as: which platform the respondents use or what podcast they listen to when learning how to code."
   ]
  },
  {
   "cell_type": "markdown",
   "metadata": {},
   "source": [
    "### Discussion\n",
    "Instead of organizing a survey, which can takes a lot of time and requires budget as well as responses, using a ready-made data will simplify the job and save time for us\n",
    "\n",
    "The 2017 New Coder Survey data is about their approach on learning how to code and it includes additional background information such as: their personal information (do they have a college degree, how old they are, are they working or unemployed and what field are they working in, etc., the platform they are using to code, what tech specific career they are pursuing, etc.\n",
    "\n",
    "The purpose of our project is to take a deeper look into this dataset and pick out 2 most popular platform to advertise our web-development & e-related courses.\n",
    "\n",
    "To download the dataset, go to this [link](https://github.com/freeCodeCamp/2017-new-coder-survey)"
   ]
  },
  {
   "cell_type": "markdown",
   "metadata": {},
   "source": [
    "## Checking for Sample Representativity"
   ]
  },
  {
   "cell_type": "markdown",
   "metadata": {},
   "source": [
    "There are some **questions** we want to answer:\n",
    "- Where are these new coders located\n",
    "- What are the locations with the greatest number of new coders\n",
    "- How much money new coders are willing to spend on learning"
   ]
  },
  {
   "cell_type": "code",
   "execution_count": 5,
   "metadata": {
    "collapsed": false
   },
   "outputs": [
    {
     "name": "stdout",
     "output_type": "stream",
     "text": [
      "                                                  index  JobRoleInterest\n",
      "0                              Full-Stack Web Developer        11.770595\n",
      "1                               Front-End Web Developer         6.435927\n",
      "2                                        Data Scientist         2.173913\n",
      "3                                Back-End Web Developer         2.030892\n",
      "4                                      Mobile Developer         1.673341\n",
      "5                                        Game Developer         1.630435\n",
      "6                                  Information Security         1.315789\n",
      "7     Full-Stack Web Developer,   Front-End Web Deve...         0.915332\n",
      "8       Front-End Web Developer, Full-Stack Web Deve...         0.800915\n",
      "9                                       Product Manager         0.786613\n",
      "10                                        Data Engineer         0.758009\n",
      "11                             User Experience Designer         0.743707\n",
      "12      User Experience Designer,   Front-End Web De...         0.614989\n",
      "13      Front-End Web Developer, Back-End Web Develo...         0.557780\n",
      "14    Back-End Web Developer, Full-Stack Web Develop...         0.514874\n",
      "15                                    DevOps / SysAdmin         0.514874\n",
      "16    Back-End Web Developer,   Front-End Web Develo...         0.514874\n",
      "17    Full-Stack Web Developer,   Front-End Web Deve...         0.443364\n",
      "18      Front-End Web Developer, Full-Stack Web Deve...         0.429062\n",
      "19      Front-End Web Developer,   User Experience D...         0.414760\n",
      "20         Full-Stack Web Developer,   Mobile Developer         0.414760\n",
      "21     Back-End Web Developer, Full-Stack Web Developer         0.386156\n",
      "22     Full-Stack Web Developer, Back-End Web Developer         0.371854\n",
      "23    Back-End Web Developer,   Front-End Web Developer         0.286041\n",
      "24    Full-Stack Web Developer, Back-End Web Develop...         0.271739\n",
      "25                      Data Engineer,   Data Scientist         0.271739\n",
      "26          Front-End Web Developer,   Mobile Developer         0.257437\n",
      "27           Full-Stack Web Developer,   Data Scientist         0.243135\n",
      "28                        Data Scientist, Data Engineer         0.228833\n",
      "29                     Mobile Developer, Game Developer         0.228833\n",
      "...                                                 ...              ...\n",
      "3183  Data Engineer, Information Security,   User Ex...         0.014302\n",
      "3184    Quality Assurance Engineer,   User Experienc...         0.014302\n",
      "3185  Game Developer,   Quality Assurance Engineer, ...         0.014302\n",
      "3186  Back-End Web Developer,   Front-End Web Develo...         0.014302\n",
      "3187    Data Scientist,   Mobile Developer, Full-Sta...         0.014302\n",
      "3188  Game Developer, Full-Stack Web Developer,   Qu...         0.014302\n",
      "3189  Game Developer,   User Experience Designer, Ba...         0.014302\n",
      "3190          Front-End Web Developer, Python Developer         0.014302\n",
      "3191  Full-Stack Web Developer,   User Experience De...         0.014302\n",
      "3192    Product Manager,   Front-End Web Developer, ...         0.014302\n",
      "3193  Full-Stack Web Developer,   DevOps / SysAdmin,...         0.014302\n",
      "3194  Game Developer, Information Security, Back-End...         0.014302\n",
      "3195    Front-End Web Developer, Full-Stack Web Deve...         0.014302\n",
      "3196  Back-End Web Developer,   Front-End Web Develo...         0.014302\n",
      "3197    Front-End Web Developer,   Mobile Developer,...         0.014302\n",
      "3198  Full-Stack Web Developer, Back-End Web Develop...         0.014302\n",
      "3199  Full-Stack Web Developer,   DevOps / SysAdmin,...         0.014302\n",
      "3200    Mobile Developer,   Front-End Web Developer,...         0.014302\n",
      "3201    Product Manager, Information Security,   Qua...         0.014302\n",
      "3202    User Experience Designer, Game Developer,   ...         0.014302\n",
      "3203                                       AI Developer         0.014302\n",
      "3204    Mobile Developer,   Front-End Web Developer,...         0.014302\n",
      "3205    Front-End Web Developer,   Data Scientist, F...         0.014302\n",
      "3206    User Experience Designer,   Quality Assuranc...         0.014302\n",
      "3207  Back-End Web Developer,   Mobile Developer,   ...         0.014302\n",
      "3208    Data Scientist,   Front-End Web Developer,  ...         0.014302\n",
      "3209    Mobile Developer, Data Engineer, Back-End We...         0.014302\n",
      "3210    Data Scientist, Back-End Web Developer, Info...         0.014302\n",
      "3211  Back-End Web Developer,   Product Manager,   D...         0.014302\n",
      "3212    Front-End Web Developer,   DevOps / SysAdmin...         0.014302\n",
      "\n",
      "[3213 rows x 2 columns]\n"
     ]
    }
   ],
   "source": [
    "role_percentages = (new_coder['JobRoleInterest'].value_counts(dropna = True, \n",
    "                                                             ascending = False, normalize = True) * 100).reset_index()\n",
    "\n",
    "print(role_percentages)"
   ]
  },
  {
   "cell_type": "markdown",
   "metadata": {},
   "source": [
    "### Observations"
   ]
  },
  {
   "cell_type": "markdown",
   "metadata": {},
   "source": [
    "Out of the distribution table above, we can see that 11% of the responses focus on the full-stack development, which is beneficial to our company because we also prioritize in web & mobile development.\n",
    "\n",
    "6% of the next responses were about front-end web development, followed by data scientists. Overall, we can see that the majority of the learners are interested in pursuing web-development courses as well as data science path. Besides, 80% of the rest are still unsure about the path they will focus on, but we can tell that most of them are full-stack web development related.\n",
    "\n",
    "Still, since 80% of the responses were interested in more than 1 object, the dataset is considered to be not representative enough."
   ]
  },
  {
   "cell_type": "markdown",
   "metadata": {},
   "source": [
    "## New Coders - Locations & Densities"
   ]
  },
  {
   "cell_type": "code",
   "execution_count": 6,
   "metadata": {
    "collapsed": true
   },
   "outputs": [],
   "source": [
    "# Drop the rows where participants didn't asnwer what role they are interest in\n",
    "new_coder['JobRoleInterest'].dropna(inplace = True)"
   ]
  },
  {
   "cell_type": "code",
   "execution_count": 7,
   "metadata": {
    "collapsed": false
   },
   "outputs": [
    {
     "name": "stdout",
     "output_type": "stream",
     "text": [
      "Full-Stack Web Developer                                                                                                                                                                           823\n",
      "  Front-End Web Developer                                                                                                                                                                          450\n",
      "  Data Scientist                                                                                                                                                                                   152\n",
      "Back-End Web Developer                                                                                                                                                                             142\n",
      "  Mobile Developer                                                                                                                                                                                 117\n",
      "Game Developer                                                                                                                                                                                     114\n",
      "Information Security                                                                                                                                                                                92\n",
      "Full-Stack Web Developer,   Front-End Web Developer                                                                                                                                                 64\n",
      "  Front-End Web Developer, Full-Stack Web Developer                                                                                                                                                 56\n",
      "  Product Manager                                                                                                                                                                                   55\n",
      "Data Engineer                                                                                                                                                                                       53\n",
      "  User Experience Designer                                                                                                                                                                          52\n",
      "  User Experience Designer,   Front-End Web Developer                                                                                                                                               43\n",
      "  Front-End Web Developer, Back-End Web Developer, Full-Stack Web Developer                                                                                                                         39\n",
      "Back-End Web Developer, Full-Stack Web Developer,   Front-End Web Developer                                                                                                                         36\n",
      "Back-End Web Developer,   Front-End Web Developer, Full-Stack Web Developer                                                                                                                         36\n",
      "  DevOps / SysAdmin                                                                                                                                                                                 36\n",
      "Full-Stack Web Developer,   Front-End Web Developer, Back-End Web Developer                                                                                                                         31\n",
      "  Front-End Web Developer, Full-Stack Web Developer, Back-End Web Developer                                                                                                                         30\n",
      "Full-Stack Web Developer,   Mobile Developer                                                                                                                                                        29\n",
      "  Front-End Web Developer,   User Experience Designer                                                                                                                                               29\n",
      "Back-End Web Developer, Full-Stack Web Developer                                                                                                                                                    27\n",
      "Full-Stack Web Developer, Back-End Web Developer                                                                                                                                                    26\n",
      "Back-End Web Developer,   Front-End Web Developer                                                                                                                                                   20\n",
      "Data Engineer,   Data Scientist                                                                                                                                                                     19\n",
      "Full-Stack Web Developer, Back-End Web Developer,   Front-End Web Developer                                                                                                                         19\n",
      "  Front-End Web Developer,   Mobile Developer                                                                                                                                                       18\n",
      "Full-Stack Web Developer,   Data Scientist                                                                                                                                                          17\n",
      "  Mobile Developer, Game Developer                                                                                                                                                                  16\n",
      "  Data Scientist, Data Engineer                                                                                                                                                                     16\n",
      "                                                                                                                                                                                                  ... \n",
      "Back-End Web Developer,   Front-End Web Developer, Data Engineer, Full-Stack Web Developer,   Mobile Developer                                                                                       1\n",
      "  Data Scientist,   Mobile Developer, Full-Stack Web Developer, Game Developer                                                                                                                       1\n",
      "Game Developer, Full-Stack Web Developer,   Quality Assurance Engineer,   DevOps / SysAdmin, Data Engineer                                                                                           1\n",
      "Game Developer,   User Experience Designer, Back-End Web Developer,   Front-End Web Developer, Full-Stack Web Developer,   Mobile Developer                                                          1\n",
      "  Front-End Web Developer, Python Developer                                                                                                                                                          1\n",
      "Data Engineer,   Mobile Developer,   Product Manager,   User Experience Designer,   Quality Assurance Engineer,   Front-End Web Developer, Full-Stack Web Developer                                  1\n",
      "Game Developer, Back-End Web Developer, Information Security                                                                                                                                         1\n",
      "  Front-End Web Developer,   User Experience Designer,   Mobile Developer, Entrepreneur                                                                                                              1\n",
      "  Data Scientist,   Mobile Developer, Information Security, Back-End Web Developer, Full-Stack Web Developer,   Front-End Web Developer,   DevOps / SysAdmin                                         1\n",
      "Back-End Web Developer,   User Experience Designer, Full-Stack Web Developer                                                                                                                         1\n",
      "Full-Stack Web Developer, Back-End Web Developer,   Mobile Developer,   Front-End Web Developer,   DevOps / SysAdmin, Information Security                                                           1\n",
      "  Product Manager,   Front-End Web Developer, Back-End Web Developer, Full-Stack Web Developer,   User Experience Designer, Game Developer, Data Engineer,   Data Scientist                          1\n",
      "  Front-End Web Developer, Full-Stack Web Developer,   User Experience Designer, Back-End Web Developer, Game Developer                                                                              1\n",
      "Back-End Web Developer,   Front-End Web Developer, Data Engineer,   Data Scientist, Full-Stack Web Developer                                                                                         1\n",
      "  Front-End Web Developer,   Mobile Developer, Game Developer,   User Experience Designer, Back-End Web Developer, Full-Stack Web Developer                                                          1\n",
      "Full-Stack Web Developer, Back-End Web Developer, Information Security,   Front-End Web Developer                                                                                                    1\n",
      "Full-Stack Web Developer,   DevOps / SysAdmin,   Front-End Web Developer, Game Developer, Back-End Web Developer                                                                                     1\n",
      "  Mobile Developer,   Front-End Web Developer, Full-Stack Web Developer, Back-End Web Developer, Game Developer                                                                                      1\n",
      "Full-Stack Web Developer, Back-End Web Developer,   DevOps / SysAdmin, Ethical Hacker                                                                                                                1\n",
      "  User Experience Designer, Game Developer,   Front-End Web Developer,   Quality Assurance Engineer,   Mobile Developer                                                                              1\n",
      "  Mobile Developer, Back-End Web Developer,   Product Manager,   User Experience Designer,   Data Scientist, Data Engineer, Game Developer, Full-Stack Web Developer,   Front-End Web Developer      1\n",
      "  Mobile Developer,   Front-End Web Developer, Full-Stack Web Developer, Back-End Web Developer                                                                                                      1\n",
      "  Front-End Web Developer,   Data Scientist, Full-Stack Web Developer,   Mobile Developer,   User Experience Designer, Data Engineer                                                                 1\n",
      "Back-End Web Developer,   Mobile Developer,   Data Scientist, Data Engineer, Full-Stack Web Developer                                                                                                1\n",
      "  Data Scientist,   Front-End Web Developer,   Mobile Developer, Data Engineer, Game Developer, Full-Stack Web Developer, Back-End Web Developer                                                     1\n",
      "  Mobile Developer, Data Engineer, Back-End Web Developer, Game Developer,   Front-End Web Developer,   Data Scientist, Full-Stack Web Developer,   User Experience Designer                         1\n",
      "  Data Scientist, Back-End Web Developer, Information Security, Data Engineer                                                                                                                        1\n",
      "Back-End Web Developer,   Product Manager,   DevOps / SysAdmin, Information Security,   Quality Assurance Engineer, Full-Stack Web Developer,   Front-End Web Developer                              1\n",
      "Game Developer, Information Security, Back-End Web Developer,   DevOps / SysAdmin                                                                                                                    1\n",
      "  Front-End Web Developer,   DevOps / SysAdmin,   User Experience Designer, Full-Stack Web Developer                                                                                                 1\n",
      "Name: JobRoleInterest, Length: 3213, dtype: int64\n"
     ]
    }
   ],
   "source": [
    "print(new_coder['JobRoleInterest'].value_counts())"
   ]
  },
  {
   "cell_type": "code",
   "execution_count": 8,
   "metadata": {
    "collapsed": false
   },
   "outputs": [
    {
     "name": "stdout",
     "output_type": "stream",
     "text": [
      "United States of America    37.760824\n",
      "India                        9.128847\n",
      "United Kingdom               4.936098\n",
      "Canada                       4.016693\n",
      "Name: CountryLive, dtype: float64\n"
     ]
    }
   ],
   "source": [
    "# Generate a frequency table for the CountryLive variable\n",
    "relative_freq = new_coder['CountryLive'].value_counts(normalize = True) * 100\n",
    "print(relative_freq.head(4))"
   ]
  },
  {
   "cell_type": "markdown",
   "metadata": {},
   "source": [
    "Out of the country the respondents are living in, more than 1/3 is living in the United States, 9% are people living in India, the next 2 countries with the same percentages (4%) are United Kingdom and Canada. The rest of the responses are distributed across different countries around the world.\n",
    "\n",
    "Overall, we can see that technology development is prospering more in the Western countries, predominantly in the US, comparing to the rest of the world (with India as an exception). Therefore, when targeting our ads, we can prioritirze US and India to boost the revenues.\n",
    "\n"
   ]
  },
  {
   "cell_type": "code",
   "execution_count": 9,
   "metadata": {
    "collapsed": false
   },
   "outputs": [
    {
     "name": "stdout",
     "output_type": "stream",
     "text": [
      "United States of America    38.0\n",
      "India                        9.0\n",
      "United Kingdom               5.0\n",
      "Canada                       4.0\n",
      "Name: CountryLive, dtype: float64\n"
     ]
    }
   ],
   "source": [
    "absolute_freq = round(relative_freq)\n",
    "print(absolute_freq.head(4))"
   ]
  },
  {
   "cell_type": "markdown",
   "metadata": {},
   "source": [
    "After deciding US and India as our 2 advertising countries, we might need to dig deeper into the potential candidates such as Canada and the UK since the technology industry in these countries are growing with the rising. As of the time of analyzing this dataset (2021), with the effect of Covid pandemic and the need for social distancing, more & more countries are relying heavily on automatic processes as well as artificial intelligence."
   ]
  },
  {
   "cell_type": "markdown",
   "metadata": {},
   "source": [
    "## Spending Money for Learning"
   ]
  },
  {
   "cell_type": "markdown",
   "metadata": {},
   "source": [
    "After looking into the locations of new coders, we can go more in depth by figuring out how much money new coders are willing to spend on learning. Advertising within markets where most people are only willing to learn for free is extremely unlikely to be profitable for our company"
   ]
  },
  {
   "cell_type": "markdown",
   "metadata": {},
   "source": [
    "We will look into the `MoneyForLearning` column (USD) describing the amount of money spent by participants from the moment they started to code until the moment they complete the survey. **Our company** sells subscription at a price of $59/month"
   ]
  },
  {
   "cell_type": "markdown",
   "metadata": {},
   "source": [
    "Create a new column name `money_spend_per_month` to describe the amount of money a student has spent per month by dividing `MoneyForLearning` to the `MonthsProgramming` column.\n",
    "\n",
    "Before that, we discovered some students answer they had been learning to code for 0 months (might be that they had just started when they completed the survey). To avoid diving by 0, replace all the values of 0 with 1"
   ]
  },
  {
   "cell_type": "code",
   "execution_count": 10,
   "metadata": {
    "collapsed": false
   },
   "outputs": [],
   "source": [
    "new_coder['MonthsProgramming'] = new_coder['MonthsProgramming'].replace({0: 1})"
   ]
  },
  {
   "cell_type": "code",
   "execution_count": 11,
   "metadata": {
    "collapsed": false
   },
   "outputs": [
    {
     "name": "stdout",
     "output_type": "stream",
     "text": [
      "Empty DataFrame\n",
      "Columns: [Age, AttendedBootcamp, BootcampFinish, BootcampLoanYesNo, BootcampName, BootcampRecommend, ChildrenNumber, CityPopulation, CodeEventConferences, CodeEventDjangoGirls, CodeEventFCC, CodeEventGameJam, CodeEventGirlDev, CodeEventHackathons, CodeEventMeetup, CodeEventNodeSchool, CodeEventNone, CodeEventOther, CodeEventRailsBridge, CodeEventRailsGirls, CodeEventStartUpWknd, CodeEventWkdBootcamps, CodeEventWomenCode, CodeEventWorkshops, CommuteTime, CountryCitizen, CountryLive, EmploymentField, EmploymentFieldOther, EmploymentStatus, EmploymentStatusOther, ExpectedEarning, FinanciallySupporting, FirstDevJob, Gender, GenderOther, HasChildren, HasDebt, HasFinancialDependents, HasHighSpdInternet, HasHomeMortgage, HasServedInMilitary, HasStudentDebt, HomeMortgageOwe, HoursLearning, ID.x, ID.y, Income, IsEthnicMinority, IsReceiveDisabilitiesBenefits, IsSoftwareDev, IsUnderEmployed, JobApplyWhen, JobInterestBackEnd, JobInterestDataEngr, JobInterestDataSci, JobInterestDevOps, JobInterestFrontEnd, JobInterestFullStack, JobInterestGameDev, JobInterestInfoSec, JobInterestMobile, JobInterestOther, JobInterestProjMngr, JobInterestQAEngr, JobInterestUX, JobPref, JobRelocateYesNo, JobRoleInterest, JobWherePref, LanguageAtHome, MaritalStatus, MoneyForLearning, MonthsProgramming, NetworkID, Part1EndTime, Part1StartTime, Part2EndTime, Part2StartTime, PodcastChangeLog, PodcastCodeNewbie, PodcastCodePen, PodcastDevTea, PodcastDotNET, PodcastGiantRobots, PodcastJSAir, PodcastJSJabber, PodcastNone, PodcastOther, PodcastProgThrowdown, PodcastRubyRogues, PodcastSEDaily, PodcastSERadio, PodcastShopTalk, PodcastTalkPython, PodcastTheWebAhead, ResourceCodecademy, ResourceCodeWars, ResourceCoursera, ResourceCSS, ...]\n",
      "Index: []\n",
      "\n",
      "[0 rows x 136 columns]\n"
     ]
    }
   ],
   "source": [
    "# Check\n",
    "print(new_coder[new_coder['MonthsProgramming'] == 0])"
   ]
  },
  {
   "cell_type": "code",
   "execution_count": 12,
   "metadata": {
    "collapsed": false
   },
   "outputs": [
    {
     "name": "stdout",
     "output_type": "stream",
     "text": [
      "0     25.000000\n",
      "1     13.333333\n",
      "2    200.000000\n",
      "3      0.000000\n",
      "4      0.000000\n",
      "Name: money_spend_per_month, dtype: float64\n"
     ]
    }
   ],
   "source": [
    "## Create new `money_spend_per_month` column\n",
    "new_coder['money_spend_per_month'] = new_coder['MoneyForLearning'] / new_coder['MonthsProgramming']\n",
    "print(new_coder['money_spend_per_month'].head())"
   ]
  },
  {
   "cell_type": "code",
   "execution_count": 13,
   "metadata": {
    "collapsed": false
   },
   "outputs": [
    {
     "name": "stdout",
     "output_type": "stream",
     "text": [
      "False    16180\n",
      "True      1995\n",
      "Name: money_spend_per_month, dtype: int64\n"
     ]
    }
   ],
   "source": [
    "## Coun the number of null values in the new column\n",
    "print(new_coder['money_spend_per_month'].isnull().value_counts())"
   ]
  },
  {
   "cell_type": "code",
   "execution_count": 14,
   "metadata": {
    "collapsed": false
   },
   "outputs": [
    {
     "data": {
      "text/plain": [
       "1995"
      ]
     },
     "execution_count": 14,
     "metadata": {},
     "output_type": "execute_result"
    }
   ],
   "source": [
    "new_coder['money_spend_per_month'].isnull().sum()"
   ]
  },
  {
   "cell_type": "code",
   "execution_count": 15,
   "metadata": {
    "collapsed": false
   },
   "outputs": [
    {
     "name": "stdout",
     "output_type": "stream",
     "text": [
      "0\n"
     ]
    }
   ],
   "source": [
    "## Drop the rows with null values\n",
    "new_coder['money_spend_per_month'].dropna(inplace = True)\n",
    "## Check the number of null values again\n",
    "print(new_coder['money_spend_per_month'].isnull().sum())"
   ]
  },
  {
   "cell_type": "code",
   "execution_count": 16,
   "metadata": {
    "collapsed": false
   },
   "outputs": [],
   "source": [
    "## Remove rows with null values in `CountryLive`\n",
    "new_coder = new_coder[new_coder['CountryLive'].notnull()]"
   ]
  },
  {
   "cell_type": "markdown",
   "metadata": {},
   "source": [
    "Group the remaining data by the `CountryLive` column to find out how much money a student spends on average each month in the US, India, the UK & Canada"
   ]
  },
  {
   "cell_type": "code",
   "execution_count": 17,
   "metadata": {
    "collapsed": false
   },
   "outputs": [
    {
     "data": {
      "text/plain": [
       "CountryLive\n",
       "Canada                      118.434054\n",
       "United Kingdom               55.774980\n",
       "United States of America    206.297711\n",
       "India                        66.526198\n",
       "Name: money_spend_per_month, dtype: float64"
      ]
     },
     "execution_count": 17,
     "metadata": {},
     "output_type": "execute_result"
    }
   ],
   "source": [
    "countries_mean = new_coder.groupby('CountryLive').mean()\n",
    "countries_mean['money_spend_per_month'][['Canada', 'United Kingdom', 'United States of America', 'India']]"
   ]
  },
  {
   "cell_type": "markdown",
   "metadata": {
    "collapsed": true
   },
   "source": [
    "Based on the results, new coders in the States are willing to pay the most for their learning. However, following the US is not India, but Canada with average money spent per month is approximately 120 dollars. United Kingdom came at last with 55 dollars per month.\n",
    "\n",
    "The reasons might be our dataset is not representative enough because there are quite a few missing values before hand. If we consider a few social economic metrics such as GDP, it's not surprise to see people India is struggling to spend more money"
   ]
  },
  {
   "cell_type": "markdown",
   "metadata": {},
   "source": [
    "It might be that we don't have enough representative data for the United Kingdom, Canada, and India, or we have some outliers (maybe coming from wrong survey answers) making the mean too big for India, or too low for the UK & Canada. Or it might be that the results are correct"
   ]
  },
  {
   "cell_type": "markdown",
   "metadata": {},
   "source": [
    "## Dealing with Extreme Outliers"
   ]
  },
  {
   "cell_type": "code",
   "execution_count": 18,
   "metadata": {
    "collapsed": false
   },
   "outputs": [],
   "source": [
    "import seaborn as sns"
   ]
  },
  {
   "cell_type": "code",
   "execution_count": 19,
   "metadata": {
    "collapsed": false,
    "scrolled": true
   },
   "outputs": [
    {
     "name": "stderr",
     "output_type": "stream",
     "text": [
      "/dataquest/system/env/python3/lib/python3.4/site-packages/seaborn/categorical.py:454: FutureWarning:\n",
      "\n",
      "remove_na is deprecated and is a private function. Do not use.\n",
      "\n"
     ]
    },
    {
     "data": {
      "image/png": "[encoded data removed]",
      "text/plain": [
       "<matplotlib.figure.Figure at 0x7f5d0a9658d0>"
      ]
     },
     "metadata": {},
     "output_type": "display_data"
    }
   ],
   "source": [
    "# Isolate the countries of interest\n",
    "only_4 = new_coder[new_coder['CountryLive'].str.contains(\n",
    "    'United States of America|India|United Kingdom|Canada')]\n",
    "\n",
    "sns.boxplot(x = 'CountryLive',y = 'money_spend_per_month', data = only_4)\n",
    "plt.title('Money Spent Per Month Per Country\\n(Distributions)')\n",
    "plt.ylabel('Money spent per month (US dollars)')\n",
    "plt.xlabel('Country')\n",
    "plt.xticks(range(4), ['Canada', 'US', 'India', 'UK'])\n",
    "plt.show()"
   ]
  },
  {
   "cell_type": "markdown",
   "metadata": {},
   "source": [
    "It's hard to see on the plot above if there's anything wrong with the data for the United Kingdom, India, or Canada, but we can see immediately that there's quite a few outliers in the US: there are peopl who spend more than 20,000 per month, 30,000 per month or even 80,000 per month. This is not impossible, but it seems extremely unlikely, so we'll remove every values that goes over \\$20,000 per month "
   ]
  },
  {
   "cell_type": "code",
   "execution_count": 20,
   "metadata": {
    "collapsed": false
   },
   "outputs": [],
   "source": [
    "# Isolate the participants who spend less than 20000 dollar per month\n",
    "new_coder = new_coder[new_coder['money_spend_per_month'] < 10000]"
   ]
  },
  {
   "cell_type": "markdown",
   "metadata": {},
   "source": [
    "Now, we'll recompute the mean values and box the plots again"
   ]
  },
  {
   "cell_type": "code",
   "execution_count": 21,
   "metadata": {
    "collapsed": false
   },
   "outputs": [
    {
     "data": {
      "text/plain": [
       "CountryLive\n",
       "Canada                      118.434054\n",
       "United Kingdom               55.774980\n",
       "United States of America    141.079827\n",
       "India                        58.384006\n",
       "Name: money_spend_per_month, dtype: float64"
      ]
     },
     "execution_count": 21,
     "metadata": {},
     "output_type": "execute_result"
    }
   ],
   "source": [
    "countries_mean = new_coder.groupby('CountryLive').mean()\n",
    "countries_mean['money_spend_per_month'][['Canada', 'United Kingdom', 'United States of America', 'India']]"
   ]
  },
  {
   "cell_type": "code",
   "execution_count": 22,
   "metadata": {
    "collapsed": false
   },
   "outputs": [
    {
     "name": "stderr",
     "output_type": "stream",
     "text": [
      "/dataquest/system/env/python3/lib/python3.4/site-packages/seaborn/categorical.py:454: FutureWarning:\n",
      "\n",
      "remove_na is deprecated and is a private function. Do not use.\n",
      "\n"
     ]
    },
    {
     "data": {
      "image/png": "[encoded data removed]",
      "text/plain": [
       "<matplotlib.figure.Figure at 0x7f5d084b10b8>"
      ]
     },
     "metadata": {},
     "output_type": "display_data"
    }
   ],
   "source": [
    "# Isolate again the countries of interest\n",
    "only_4 = new_coder[new_coder['CountryLive'].str.contains((\n",
    "    'United States of America|India|United Kingdom|Canada'), na = False)]\n",
    "## Let's plot the data again\n",
    "sns.boxplot(x = 'CountryLive',y = 'money_spend_per_month', data = only_4)\n",
    "plt.title('Money Spent Per Month Per Country\\n(Distributions)', fontsize = 16)\n",
    "plt.ylabel('Money spent per month (US dollars)')\n",
    "plt.xlabel('Country')\n",
    "plt.xticks(range(4), ['Canada', 'US', 'India', 'UK'])\n",
    "plt.show()"
   ]
  },
  {
   "cell_type": "markdown",
   "metadata": {},
   "source": [
    "Now, we can see better the outliers for each country, except for the UK. There are some outliers in India, which indicates there are learners who are willing to pay more than \\$2,500/month. Maybe these persons attended several bootcamps, which tend to be very expensive. Let's examine these data points to see if we can find anything"
   ]
  },
  {
   "cell_type": "code",
   "execution_count": 23,
   "metadata": {
    "collapsed": false
   },
   "outputs": [],
   "source": [
    "money_month_india = new_coder[new_coder['CountryLive'] == 'India']\n",
    "india_outliers = money_month_india[money_month_india['money_spend_per_month'] > 2500]"
   ]
  },
  {
   "cell_type": "markdown",
   "metadata": {},
   "source": [
    "We can see that in India, as the time of survey, there were approximately 6 people who spent more than \\$2500 per month to study for code. Specifically, 3 people spent 5000 per month and an individual spent approx. \\$10,000 per month. We will extract these people and examine whether they attended any bootcamps, which might justify the large amount of money spent"
   ]
  },
  {
   "cell_type": "code",
   "execution_count": 24,
   "metadata": {
    "collapsed": false
   },
   "outputs": [
    {
     "name": "stdout",
     "output_type": "stream",
     "text": [
      "       Age  AttendedBootcamp  BootcampFinish  BootcampLoanYesNo BootcampName  \\\n",
      "1728  24.0               0.0             NaN                NaN          NaN   \n",
      "7989  28.0               0.0             NaN                NaN          NaN   \n",
      "8126  22.0               0.0             NaN                NaN          NaN   \n",
      "\n",
      "      BootcampRecommend  ChildrenNumber                 CityPopulation  \\\n",
      "1728                NaN             NaN  between 100,000 and 1 million   \n",
      "7989                NaN             NaN  between 100,000 and 1 million   \n",
      "8126                NaN             NaN            more than 1 million   \n",
      "\n",
      "      CodeEventConferences  CodeEventDjangoGirls          ...            \\\n",
      "1728                   NaN                   NaN          ...             \n",
      "7989                   1.0                   NaN          ...             \n",
      "8126                   NaN                   NaN          ...             \n",
      "\n",
      "      YouTubeFunFunFunction  YouTubeGoogleDev  YouTubeLearnCode  \\\n",
      "1728                    NaN               NaN               NaN   \n",
      "7989                    NaN               NaN               NaN   \n",
      "8126                    NaN               1.0               NaN   \n",
      "\n",
      "      YouTubeLevelUpTuts  YouTubeMIT  YouTubeMozillaHacks  YouTubeOther  \\\n",
      "1728                 NaN         NaN                  NaN           NaN   \n",
      "7989                 NaN         NaN                  NaN           NaN   \n",
      "8126                 NaN         1.0                  NaN           NaN   \n",
      "\n",
      "     YouTubeSimplilearn  YouTubeTheNewBoston  money_spend_per_month  \n",
      "1728                NaN                  NaN                 5000.0  \n",
      "7989                NaN                  NaN                 5000.0  \n",
      "8126                NaN                  1.0                 5000.0  \n",
      "\n",
      "[3 rows x 137 columns]\n"
     ]
    }
   ],
   "source": [
    "over_5000 = money_month_india[money_month_india['money_spend_per_month'] >= 5000]\n",
    "print(over_5000)"
   ]
  },
  {
   "cell_type": "code",
   "execution_count": 25,
   "metadata": {
    "collapsed": false
   },
   "outputs": [
    {
     "name": "stdout",
     "output_type": "stream",
     "text": [
      "Index(['AttendedBootcamp', 'BootcampFinish', 'BootcampLoanYesNo',\n",
      "       'BootcampName', 'BootcampRecommend', 'CodeEventWkdBootcamps'],\n",
      "      dtype='object')\n"
     ]
    }
   ],
   "source": [
    "# Print out the columns name indicating whether these individuals attended Bootcamps or not\n",
    "print(over_5000.filter(like = 'Bootcamp').columns)"
   ]
  },
  {
   "cell_type": "code",
   "execution_count": 26,
   "metadata": {
    "collapsed": true
   },
   "outputs": [],
   "source": [
    "bootcamp_cols = ['AttendedBootcamp', 'BootcampFinish', 'BootcampLoanYesNo',\n",
    "       'BootcampName', 'BootcampRecommend', 'CodeEventWkdBootcamps', 'money_spend_per_month']"
   ]
  },
  {
   "cell_type": "code",
   "execution_count": 27,
   "metadata": {
    "collapsed": false
   },
   "outputs": [
    {
     "data": {
      "text/html": [
       "<div>\n",
       "<style scoped>\n",
       "    .dataframe tbody tr th:only-of-type {\n",
       "        vertical-align: middle;\n",
       "    }\n",
       "\n",
       "    .dataframe tbody tr th {\n",
       "        vertical-align: top;\n",
       "    }\n",
       "\n",
       "    .dataframe thead th {\n",
       "        text-align: right;\n",
       "    }\n",
       "</style>\n",
       "<table border=\"1\" class=\"dataframe\">\n",
       "  <thead>\n",
       "    <tr style=\"text-align: right;\">\n",
       "      <th></th>\n",
       "      <th>AttendedBootcamp</th>\n",
       "      <th>BootcampFinish</th>\n",
       "      <th>BootcampLoanYesNo</th>\n",
       "      <th>BootcampName</th>\n",
       "      <th>BootcampRecommend</th>\n",
       "      <th>CodeEventWkdBootcamps</th>\n",
       "      <th>money_spend_per_month</th>\n",
       "    </tr>\n",
       "  </thead>\n",
       "  <tbody>\n",
       "    <tr>\n",
       "      <th>1728</th>\n",
       "      <td>0.0</td>\n",
       "      <td>NaN</td>\n",
       "      <td>NaN</td>\n",
       "      <td>NaN</td>\n",
       "      <td>NaN</td>\n",
       "      <td>NaN</td>\n",
       "      <td>5000.0</td>\n",
       "    </tr>\n",
       "    <tr>\n",
       "      <th>7989</th>\n",
       "      <td>0.0</td>\n",
       "      <td>NaN</td>\n",
       "      <td>NaN</td>\n",
       "      <td>NaN</td>\n",
       "      <td>NaN</td>\n",
       "      <td>NaN</td>\n",
       "      <td>5000.0</td>\n",
       "    </tr>\n",
       "    <tr>\n",
       "      <th>8126</th>\n",
       "      <td>0.0</td>\n",
       "      <td>NaN</td>\n",
       "      <td>NaN</td>\n",
       "      <td>NaN</td>\n",
       "      <td>NaN</td>\n",
       "      <td>NaN</td>\n",
       "      <td>5000.0</td>\n",
       "    </tr>\n",
       "  </tbody>\n",
       "</table>\n",
       "</div>"
      ],
      "text/plain": [
       "      AttendedBootcamp  BootcampFinish  BootcampLoanYesNo BootcampName  \\\n",
       "1728               0.0             NaN                NaN          NaN   \n",
       "7989               0.0             NaN                NaN          NaN   \n",
       "8126               0.0             NaN                NaN          NaN   \n",
       "\n",
       "      BootcampRecommend  CodeEventWkdBootcamps  money_spend_per_month  \n",
       "1728                NaN                    NaN                 5000.0  \n",
       "7989                NaN                    NaN                 5000.0  \n",
       "8126                NaN                    NaN                 5000.0  "
      ]
     },
     "execution_count": 27,
     "metadata": {},
     "output_type": "execute_result"
    }
   ],
   "source": [
    "over_5000[['AttendedBootcamp', 'BootcampFinish', 'BootcampLoanYesNo',\n",
    "       'BootcampName', 'BootcampRecommend', 'CodeEventWkdBootcamps', 'money_spend_per_month']]"
   ]
  },
  {
   "cell_type": "markdown",
   "metadata": {},
   "source": [
    "Based on the table above, there are 3 assumptions we might draw from:\n",
    "\n",
    "- The individuals didn't answer the questions indicating whether they attended bootcamp or not, that' why we got NaN values\n",
    "- The individuals didn't attended bootcampts. Instead, they might go to university to study coding\n",
    "- These individuals might pay for a course online that lasted only 1-2 months and they were studying at the time they received the survey. That's why we got the answers as above\n",
    "\n",
    "Besides, the survey's question was: \"Asides from university tuition, about how much money have you spent on learning to code so far (US dollars)\", the participants might misunderstood and counted their tuition fee into the survey. It seems safer to remove these rows"
   ]
  },
  {
   "cell_type": "code",
   "execution_count": 28,
   "metadata": {
    "collapsed": false
   },
   "outputs": [],
   "source": [
    "# Remove the outliers for India\n",
    "only_4 = only_4.drop(india_outliers.index) # Using the row labels"
   ]
  },
  {
   "cell_type": "markdown",
   "metadata": {},
   "source": [
    "Looking back at the box plot, we can spot some more outliers in the US. This time, we'll focus on values over \\$6,000. Let's examine these participants in more detail"
   ]
  },
  {
   "cell_type": "code",
   "execution_count": 29,
   "metadata": {
    "collapsed": false
   },
   "outputs": [
    {
     "name": "stdout",
     "output_type": "stream",
     "text": [
      "United States of America    5459\n",
      "India                       1215\n",
      "United Kingdom               698\n",
      "Canada                       578\n",
      "Name: CountryLive, dtype: int64\n"
     ]
    }
   ],
   "source": [
    "print(only_4['CountryLive'].value_counts())"
   ]
  },
  {
   "cell_type": "code",
   "execution_count": 30,
   "metadata": {
    "collapsed": false
   },
   "outputs": [
    {
     "data": {
      "text/html": [
       "<div>\n",
       "<style scoped>\n",
       "    .dataframe tbody tr th:only-of-type {\n",
       "        vertical-align: middle;\n",
       "    }\n",
       "\n",
       "    .dataframe tbody tr th {\n",
       "        vertical-align: top;\n",
       "    }\n",
       "\n",
       "    .dataframe thead th {\n",
       "        text-align: right;\n",
       "    }\n",
       "</style>\n",
       "<table border=\"1\" class=\"dataframe\">\n",
       "  <thead>\n",
       "    <tr style=\"text-align: right;\">\n",
       "      <th></th>\n",
       "      <th>Age</th>\n",
       "      <th>AttendedBootcamp</th>\n",
       "      <th>BootcampFinish</th>\n",
       "      <th>BootcampLoanYesNo</th>\n",
       "      <th>BootcampName</th>\n",
       "      <th>BootcampRecommend</th>\n",
       "      <th>ChildrenNumber</th>\n",
       "      <th>CityPopulation</th>\n",
       "      <th>CodeEventConferences</th>\n",
       "      <th>CodeEventDjangoGirls</th>\n",
       "      <th>...</th>\n",
       "      <th>YouTubeFunFunFunction</th>\n",
       "      <th>YouTubeGoogleDev</th>\n",
       "      <th>YouTubeLearnCode</th>\n",
       "      <th>YouTubeLevelUpTuts</th>\n",
       "      <th>YouTubeMIT</th>\n",
       "      <th>YouTubeMozillaHacks</th>\n",
       "      <th>YouTubeOther</th>\n",
       "      <th>YouTubeSimplilearn</th>\n",
       "      <th>YouTubeTheNewBoston</th>\n",
       "      <th>money_spend_per_month</th>\n",
       "    </tr>\n",
       "  </thead>\n",
       "  <tbody>\n",
       "    <tr>\n",
       "      <th>718</th>\n",
       "      <td>26.0</td>\n",
       "      <td>1.0</td>\n",
       "      <td>0.0</td>\n",
       "      <td>0.0</td>\n",
       "      <td>The Coding Boot Camp at UCLA Extension</td>\n",
       "      <td>1.0</td>\n",
       "      <td>NaN</td>\n",
       "      <td>more than 1 million</td>\n",
       "      <td>1.0</td>\n",
       "      <td>NaN</td>\n",
       "      <td>...</td>\n",
       "      <td>NaN</td>\n",
       "      <td>NaN</td>\n",
       "      <td>NaN</td>\n",
       "      <td>NaN</td>\n",
       "      <td>NaN</td>\n",
       "      <td>NaN</td>\n",
       "      <td>NaN</td>\n",
       "      <td>NaN</td>\n",
       "      <td>NaN</td>\n",
       "      <td>8000.000000</td>\n",
       "    </tr>\n",
       "    <tr>\n",
       "      <th>1222</th>\n",
       "      <td>32.0</td>\n",
       "      <td>1.0</td>\n",
       "      <td>0.0</td>\n",
       "      <td>0.0</td>\n",
       "      <td>The Iron Yard</td>\n",
       "      <td>1.0</td>\n",
       "      <td>NaN</td>\n",
       "      <td>between 100,000 and 1 million</td>\n",
       "      <td>NaN</td>\n",
       "      <td>NaN</td>\n",
       "      <td>...</td>\n",
       "      <td>NaN</td>\n",
       "      <td>NaN</td>\n",
       "      <td>1.0</td>\n",
       "      <td>NaN</td>\n",
       "      <td>NaN</td>\n",
       "      <td>NaN</td>\n",
       "      <td>NaN</td>\n",
       "      <td>NaN</td>\n",
       "      <td>NaN</td>\n",
       "      <td>6500.000000</td>\n",
       "    </tr>\n",
       "    <tr>\n",
       "      <th>2404</th>\n",
       "      <td>22.0</td>\n",
       "      <td>1.0</td>\n",
       "      <td>1.0</td>\n",
       "      <td>1.0</td>\n",
       "      <td>Telegraph Academy</td>\n",
       "      <td>1.0</td>\n",
       "      <td>NaN</td>\n",
       "      <td>between 100,000 and 1 million</td>\n",
       "      <td>NaN</td>\n",
       "      <td>NaN</td>\n",
       "      <td>...</td>\n",
       "      <td>1.0</td>\n",
       "      <td>NaN</td>\n",
       "      <td>1.0</td>\n",
       "      <td>1.0</td>\n",
       "      <td>NaN</td>\n",
       "      <td>NaN</td>\n",
       "      <td>NaN</td>\n",
       "      <td>NaN</td>\n",
       "      <td>1.0</td>\n",
       "      <td>7083.333333</td>\n",
       "    </tr>\n",
       "    <tr>\n",
       "      <th>3184</th>\n",
       "      <td>34.0</td>\n",
       "      <td>1.0</td>\n",
       "      <td>1.0</td>\n",
       "      <td>0.0</td>\n",
       "      <td>We Can Code IT</td>\n",
       "      <td>1.0</td>\n",
       "      <td>NaN</td>\n",
       "      <td>more than 1 million</td>\n",
       "      <td>NaN</td>\n",
       "      <td>NaN</td>\n",
       "      <td>...</td>\n",
       "      <td>NaN</td>\n",
       "      <td>NaN</td>\n",
       "      <td>NaN</td>\n",
       "      <td>NaN</td>\n",
       "      <td>NaN</td>\n",
       "      <td>NaN</td>\n",
       "      <td>NaN</td>\n",
       "      <td>NaN</td>\n",
       "      <td>NaN</td>\n",
       "      <td>9000.000000</td>\n",
       "    </tr>\n",
       "    <tr>\n",
       "      <th>7505</th>\n",
       "      <td>26.0</td>\n",
       "      <td>1.0</td>\n",
       "      <td>0.0</td>\n",
       "      <td>1.0</td>\n",
       "      <td>Codeup</td>\n",
       "      <td>0.0</td>\n",
       "      <td>NaN</td>\n",
       "      <td>more than 1 million</td>\n",
       "      <td>NaN</td>\n",
       "      <td>NaN</td>\n",
       "      <td>...</td>\n",
       "      <td>NaN</td>\n",
       "      <td>NaN</td>\n",
       "      <td>NaN</td>\n",
       "      <td>NaN</td>\n",
       "      <td>1.0</td>\n",
       "      <td>NaN</td>\n",
       "      <td>NaN</td>\n",
       "      <td>NaN</td>\n",
       "      <td>NaN</td>\n",
       "      <td>6666.666667</td>\n",
       "    </tr>\n",
       "    <tr>\n",
       "      <th>9778</th>\n",
       "      <td>33.0</td>\n",
       "      <td>1.0</td>\n",
       "      <td>0.0</td>\n",
       "      <td>1.0</td>\n",
       "      <td>Grand Circus</td>\n",
       "      <td>1.0</td>\n",
       "      <td>NaN</td>\n",
       "      <td>between 100,000 and 1 million</td>\n",
       "      <td>NaN</td>\n",
       "      <td>NaN</td>\n",
       "      <td>...</td>\n",
       "      <td>NaN</td>\n",
       "      <td>NaN</td>\n",
       "      <td>NaN</td>\n",
       "      <td>NaN</td>\n",
       "      <td>NaN</td>\n",
       "      <td>NaN</td>\n",
       "      <td>NaN</td>\n",
       "      <td>NaN</td>\n",
       "      <td>NaN</td>\n",
       "      <td>8000.000000</td>\n",
       "    </tr>\n",
       "    <tr>\n",
       "      <th>15565</th>\n",
       "      <td>23.0</td>\n",
       "      <td>0.0</td>\n",
       "      <td>NaN</td>\n",
       "      <td>NaN</td>\n",
       "      <td>NaN</td>\n",
       "      <td>NaN</td>\n",
       "      <td>NaN</td>\n",
       "      <td>less than 100,000</td>\n",
       "      <td>NaN</td>\n",
       "      <td>NaN</td>\n",
       "      <td>...</td>\n",
       "      <td>NaN</td>\n",
       "      <td>NaN</td>\n",
       "      <td>NaN</td>\n",
       "      <td>NaN</td>\n",
       "      <td>NaN</td>\n",
       "      <td>NaN</td>\n",
       "      <td>NaN</td>\n",
       "      <td>NaN</td>\n",
       "      <td>NaN</td>\n",
       "      <td>7500.000000</td>\n",
       "    </tr>\n",
       "  </tbody>\n",
       "</table>\n",
       "<p>7 rows × 137 columns</p>\n",
       "</div>"
      ],
      "text/plain": [
       "        Age  AttendedBootcamp  BootcampFinish  BootcampLoanYesNo  \\\n",
       "718    26.0               1.0             0.0                0.0   \n",
       "1222   32.0               1.0             0.0                0.0   \n",
       "2404   22.0               1.0             1.0                1.0   \n",
       "3184   34.0               1.0             1.0                0.0   \n",
       "7505   26.0               1.0             0.0                1.0   \n",
       "9778   33.0               1.0             0.0                1.0   \n",
       "15565  23.0               0.0             NaN                NaN   \n",
       "\n",
       "                                 BootcampName  BootcampRecommend  \\\n",
       "718    The Coding Boot Camp at UCLA Extension                1.0   \n",
       "1222                            The Iron Yard                1.0   \n",
       "2404                        Telegraph Academy                1.0   \n",
       "3184                           We Can Code IT                1.0   \n",
       "7505                                   Codeup                0.0   \n",
       "9778                             Grand Circus                1.0   \n",
       "15565                                     NaN                NaN   \n",
       "\n",
       "       ChildrenNumber                 CityPopulation  CodeEventConferences  \\\n",
       "718               NaN            more than 1 million                   1.0   \n",
       "1222              NaN  between 100,000 and 1 million                   NaN   \n",
       "2404              NaN  between 100,000 and 1 million                   NaN   \n",
       "3184              NaN            more than 1 million                   NaN   \n",
       "7505              NaN            more than 1 million                   NaN   \n",
       "9778              NaN  between 100,000 and 1 million                   NaN   \n",
       "15565             NaN              less than 100,000                   NaN   \n",
       "\n",
       "       CodeEventDjangoGirls          ...            YouTubeFunFunFunction  \\\n",
       "718                     NaN          ...                              NaN   \n",
       "1222                    NaN          ...                              NaN   \n",
       "2404                    NaN          ...                              1.0   \n",
       "3184                    NaN          ...                              NaN   \n",
       "7505                    NaN          ...                              NaN   \n",
       "9778                    NaN          ...                              NaN   \n",
       "15565                   NaN          ...                              NaN   \n",
       "\n",
       "       YouTubeGoogleDev  YouTubeLearnCode  YouTubeLevelUpTuts  YouTubeMIT  \\\n",
       "718                 NaN               NaN                 NaN         NaN   \n",
       "1222                NaN               1.0                 NaN         NaN   \n",
       "2404                NaN               1.0                 1.0         NaN   \n",
       "3184                NaN               NaN                 NaN         NaN   \n",
       "7505                NaN               NaN                 NaN         1.0   \n",
       "9778                NaN               NaN                 NaN         NaN   \n",
       "15565               NaN               NaN                 NaN         NaN   \n",
       "\n",
       "       YouTubeMozillaHacks  YouTubeOther YouTubeSimplilearn  \\\n",
       "718                    NaN           NaN                NaN   \n",
       "1222                   NaN           NaN                NaN   \n",
       "2404                   NaN           NaN                NaN   \n",
       "3184                   NaN           NaN                NaN   \n",
       "7505                   NaN           NaN                NaN   \n",
       "9778                   NaN           NaN                NaN   \n",
       "15565                  NaN           NaN                NaN   \n",
       "\n",
       "       YouTubeTheNewBoston  money_spend_per_month  \n",
       "718                    NaN            8000.000000  \n",
       "1222                   NaN            6500.000000  \n",
       "2404                   1.0            7083.333333  \n",
       "3184                   NaN            9000.000000  \n",
       "7505                   NaN            6666.666667  \n",
       "9778                   NaN            8000.000000  \n",
       "15565                  NaN            7500.000000  \n",
       "\n",
       "[7 rows x 137 columns]"
      ]
     },
     "execution_count": 30,
     "metadata": {},
     "output_type": "execute_result"
    }
   ],
   "source": [
    "us_outliers = only_4[\n",
    "    (only_4['CountryLive'] == 'United States of America') &\n",
    "    (only_4['money_spend_per_month'] >= 6000)]\n",
    "us_outliers"
   ]
  },
  {
   "cell_type": "code",
   "execution_count": 31,
   "metadata": {
    "collapsed": false,
    "scrolled": true
   },
   "outputs": [
    {
     "data": {
      "text/plain": [
       "718       1.0\n",
       "1222      2.0\n",
       "2404     24.0\n",
       "3184      1.0\n",
       "7505      3.0\n",
       "9778      1.0\n",
       "15565     2.0\n",
       "Name: MonthsProgramming, dtype: float64"
      ]
     },
     "execution_count": 31,
     "metadata": {},
     "output_type": "execute_result"
    }
   ],
   "source": [
    "us_outliers['MonthsProgramming']"
   ]
  },
  {
   "cell_type": "code",
   "execution_count": 32,
   "metadata": {
    "collapsed": false
   },
   "outputs": [
    {
     "data": {
      "text/plain": [
       "6500.000000    1\n",
       "6666.666667    1\n",
       "7083.333333    1\n",
       "7500.000000    1\n",
       "8000.000000    2\n",
       "9000.000000    1\n",
       "Name: money_spend_per_month, dtype: int64"
      ]
     },
     "execution_count": 32,
     "metadata": {},
     "output_type": "execute_result"
    }
   ],
   "source": [
    "us_outliers[bootcamp_cols]['money_spend_per_month'].value_counts().sort_index()"
   ]
  },
  {
   "cell_type": "markdown",
   "metadata": {},
   "source": [
    "From the table above, there are some interestings findings:\n",
    "- 6/14 said that they didn't attend any bootcamp. However, when we look at the amount of money they spend for coding each month, the money can exceed \\$15,000. This could indicated that the respondents might mistakenly include their tuition fee for university. Consequently, we'll remove those rows.\n",
    "\n",
    "- The rest of the people indicated that they attended a boot camp and the amount of money ranging from \\$6500 - \\$15,000\n",
    "\n",
    "- Besides, the data shows that 8 respondents had been programming for no more than 8 months when they completed the survey. They most likely paid a large sum of money for a bootcamp that was going to last for several months. Therefore, the amount of money per month is unrealistic and they would not spend anything for the next couple of months. Hence, we'll remove every these 8 outliers\n",
    "\n",
    "Therefore, we can decide to omit the people:\n",
    "- Didn't attend the bootcamp\n",
    "- Had been programming for 3 months or less when at the time they completed the survey."
   ]
  },
  {
   "cell_type": "code",
   "execution_count": 33,
   "metadata": {
    "collapsed": false
   },
   "outputs": [],
   "source": [
    "no_bootcamp = only_4[\n",
    "    (only_4['CountryLive'] == 'United States of America') & \n",
    "    (only_4['money_spend_per_month'] >= 6000) &\n",
    "    (only_4['AttendedBootcamp'] == 0)\n",
    "]\n",
    "\n",
    "only_4 = only_4.drop(no_bootcamp.index)\n",
    "\n",
    "\n",
    "# Remove the respondents that had been programming for less than 3 months\n",
    "less_than_3_months = only_4[\n",
    "    (only_4['CountryLive'] == 'United States of America') & \n",
    "    (only_4['money_spend_per_month'] >= 6000) &\n",
    "    (only_4['MonthsProgramming'] <= 3)\n",
    "]\n",
    "\n",
    "only_4 = only_4.drop(less_than_3_months.index)"
   ]
  },
  {
   "cell_type": "code",
   "execution_count": 34,
   "metadata": {
    "collapsed": false
   },
   "outputs": [],
   "source": [
    "more_than_6000 = only_4[(only_4['CountryLive'] == 'United States of America') & \n",
    "    (only_4['money_spend_per_month'] >= 6000)]\n",
    "\n",
    "only_4 = only_4.drop(more_than_6000.index)"
   ]
  },
  {
   "cell_type": "code",
   "execution_count": 35,
   "metadata": {
    "collapsed": false
   },
   "outputs": [
    {
     "data": {
      "text/html": [
       "<div>\n",
       "<style scoped>\n",
       "    .dataframe tbody tr th:only-of-type {\n",
       "        vertical-align: middle;\n",
       "    }\n",
       "\n",
       "    .dataframe tbody tr th {\n",
       "        vertical-align: top;\n",
       "    }\n",
       "\n",
       "    .dataframe thead th {\n",
       "        text-align: right;\n",
       "    }\n",
       "</style>\n",
       "<table border=\"1\" class=\"dataframe\">\n",
       "  <thead>\n",
       "    <tr style=\"text-align: right;\">\n",
       "      <th></th>\n",
       "      <th>Age</th>\n",
       "      <th>AttendedBootcamp</th>\n",
       "      <th>BootcampFinish</th>\n",
       "      <th>BootcampLoanYesNo</th>\n",
       "      <th>BootcampName</th>\n",
       "      <th>BootcampRecommend</th>\n",
       "      <th>ChildrenNumber</th>\n",
       "      <th>CityPopulation</th>\n",
       "      <th>CodeEventConferences</th>\n",
       "      <th>CodeEventDjangoGirls</th>\n",
       "      <th>...</th>\n",
       "      <th>YouTubeFunFunFunction</th>\n",
       "      <th>YouTubeGoogleDev</th>\n",
       "      <th>YouTubeLearnCode</th>\n",
       "      <th>YouTubeLevelUpTuts</th>\n",
       "      <th>YouTubeMIT</th>\n",
       "      <th>YouTubeMozillaHacks</th>\n",
       "      <th>YouTubeOther</th>\n",
       "      <th>YouTubeSimplilearn</th>\n",
       "      <th>YouTubeTheNewBoston</th>\n",
       "      <th>money_spend_per_month</th>\n",
       "    </tr>\n",
       "  </thead>\n",
       "  <tbody>\n",
       "    <tr>\n",
       "      <th>13659</th>\n",
       "      <td>24.0</td>\n",
       "      <td>1.0</td>\n",
       "      <td>0.0</td>\n",
       "      <td>0.0</td>\n",
       "      <td>Bloc.io</td>\n",
       "      <td>1.0</td>\n",
       "      <td>NaN</td>\n",
       "      <td>more than 1 million</td>\n",
       "      <td>1.0</td>\n",
       "      <td>NaN</td>\n",
       "      <td>...</td>\n",
       "      <td>NaN</td>\n",
       "      <td>NaN</td>\n",
       "      <td>NaN</td>\n",
       "      <td>NaN</td>\n",
       "      <td>1.0</td>\n",
       "      <td>NaN</td>\n",
       "      <td>NaN</td>\n",
       "      <td>NaN</td>\n",
       "      <td>NaN</td>\n",
       "      <td>5000.0</td>\n",
       "    </tr>\n",
       "  </tbody>\n",
       "</table>\n",
       "<p>1 rows × 137 columns</p>\n",
       "</div>"
      ],
      "text/plain": [
       "        Age  AttendedBootcamp  BootcampFinish  BootcampLoanYesNo BootcampName  \\\n",
       "13659  24.0               1.0             0.0                0.0      Bloc.io   \n",
       "\n",
       "       BootcampRecommend  ChildrenNumber       CityPopulation  \\\n",
       "13659                1.0             NaN  more than 1 million   \n",
       "\n",
       "       CodeEventConferences  CodeEventDjangoGirls          ...            \\\n",
       "13659                   1.0                   NaN          ...             \n",
       "\n",
       "       YouTubeFunFunFunction  YouTubeGoogleDev  YouTubeLearnCode  \\\n",
       "13659                    NaN               NaN               NaN   \n",
       "\n",
       "       YouTubeLevelUpTuts  YouTubeMIT  YouTubeMozillaHacks  YouTubeOther  \\\n",
       "13659                 NaN         1.0                  NaN           NaN   \n",
       "\n",
       "      YouTubeSimplilearn  YouTubeTheNewBoston  money_spend_per_month  \n",
       "13659                NaN                  NaN                 5000.0  \n",
       "\n",
       "[1 rows x 137 columns]"
      ]
     },
     "execution_count": 35,
     "metadata": {},
     "output_type": "execute_result"
    }
   ],
   "source": [
    "canada_outliers = only_4[\n",
    "    (only_4['CountryLive'] == 'Canada') & \n",
    "    (only_4['money_spend_per_month'] > 4500)]\n",
    "\n",
    "canada_outliers"
   ]
  },
  {
   "cell_type": "code",
   "execution_count": 36,
   "metadata": {
    "collapsed": false
   },
   "outputs": [
    {
     "data": {
      "text/plain": [
       "13659    2.0\n",
       "Name: MonthsProgramming, dtype: float64"
      ]
     },
     "execution_count": 36,
     "metadata": {},
     "output_type": "execute_result"
    }
   ],
   "source": [
    "canada_outliers['MonthsProgramming']"
   ]
  },
  {
   "cell_type": "markdown",
   "metadata": {},
   "source": [
    "The situation is the same as US respondents - this participant has attended a bootcamp and has been programming for no more than 2 months when he completed the survey. We'll take the same approach her for the US and remove this outlier"
   ]
  },
  {
   "cell_type": "code",
   "execution_count": 37,
   "metadata": {
    "collapsed": true
   },
   "outputs": [],
   "source": [
    "# Remove the outlier for Canada\n",
    "only_4 = only_4.drop(canada_outliers.index)"
   ]
  },
  {
   "cell_type": "code",
   "execution_count": 38,
   "metadata": {
    "collapsed": false
   },
   "outputs": [
    {
     "name": "stdout",
     "output_type": "stream",
     "text": [
      "CountryLive\n",
      "Canada                      109.973801\n",
      "India                        40.105751\n",
      "United Kingdom               55.774980\n",
      "United States of America    131.585615\n",
      "Name: money_spend_per_month, dtype: float64\n"
     ]
    }
   ],
   "source": [
    "# Recompute the mean again\n",
    "country_mean = only_4.groupby('CountryLive').mean()['money_spend_per_month']\n",
    "print(country_mean)"
   ]
  },
  {
   "cell_type": "code",
   "execution_count": 39,
   "metadata": {
    "collapsed": false
   },
   "outputs": [
    {
     "name": "stderr",
     "output_type": "stream",
     "text": [
      "/dataquest/system/env/python3/lib/python3.4/site-packages/seaborn/categorical.py:454: FutureWarning:\n",
      "\n",
      "remove_na is deprecated and is a private function. Do not use.\n",
      "\n"
     ]
    },
    {
     "data": {
      "image/png": "[encoded data removed]",
      "text/plain": [
       "<matplotlib.figure.Figure at 0x7f5d084557f0>"
      ]
     },
     "metadata": {},
     "output_type": "display_data"
    }
   ],
   "source": [
    "sns.boxplot(x = 'CountryLive',y = 'money_spend_per_month', data = only_4)\n",
    "plt.title('Money Spent Per Month Per Country\\n(Distributions)', fontsize = 16)\n",
    "plt.ylabel('Money spent per month (US dollars)')\n",
    "plt.xlabel('Country')\n",
    "plt.xticks(range(4), ['Canada', 'US', 'India', 'UK'])\n",
    "plt.show()"
   ]
  },
  {
   "cell_type": "markdown",
   "metadata": {
    "collapsed": true
   },
   "source": [
    "## Choosing the 2 best markets"
   ]
  },
  {
   "cell_type": "markdown",
   "metadata": {},
   "source": [
    "Consider the results we have so far, one country we should definitely advertise is in the US. There are a lot of new coders living there and they're willing to pay a good amount of money each month"
   ]
  },
  {
   "cell_type": "markdown",
   "metadata": {},
   "source": [
    "The second market we can consider is the Canada because people are willing to pay roughly \\$100/month, compared to \\$66 in the India and the United Kingdom\n"
   ]
  },
  {
   "cell_type": "code",
   "execution_count": 40,
   "metadata": {
    "collapsed": false
   },
   "outputs": [
    {
     "data": {
      "text/plain": [
       "United States of America    68.647696\n",
       "India                       15.298413\n",
       "United Kingdom               8.788718\n",
       "Canada                       7.265173\n",
       "Name: CountryLive, dtype: float64"
      ]
     },
     "execution_count": 40,
     "metadata": {},
     "output_type": "execute_result"
    }
   ],
   "source": [
    "only_4['CountryLive'].value_counts(normalize = True) * 100"
   ]
  },
  {
   "cell_type": "markdown",
   "metadata": {
    "collapsed": true
   },
   "source": [
    "It's not clear what to choose between Canada and India. Canada is a good market place, but Indica might also have more potential customers \n",
    "\n",
    "We can have several options here:\n",
    "\n",
    "1. Advertise completely in the US\n",
    "\n",
    "2. Avertise in the US & Canada, or US and India by splitting the budget:\n",
    "    - 70% for the US, 30% for India/Canada\n",
    "    - 65% for the US, 35% for India/Canada, etc.\n",
    "\n",
    "3. Avertise in all US, India & Canada with more strategically budget:\n",
    "    - 60% in the US, 30% in Canada, 10% in India\n",
    "    - 60% in the US, 25% in Canada, 15% in India, etc"
   ]
  },
  {
   "cell_type": "code",
   "execution_count": null,
   "metadata": {
    "collapsed": true
   },
   "outputs": [],
   "source": []
  }
 ],
 "metadata": {
  "kernelspec": {
   "display_name": "Python 3",
   "language": "python",
   "name": "python3"
  },
  "language_info": {
   "codemirror_mode": {
    "name": "ipython",
    "version": 3
   },
   "file_extension": ".py",
   "mimetype": "text/x-python",
   "name": "python",
   "nbconvert_exporter": "python",
   "pygments_lexer": "ipython3",
   "version": "3.4.3"
  }
 },
 "nbformat": 4,
 "nbformat_minor": 2
}
